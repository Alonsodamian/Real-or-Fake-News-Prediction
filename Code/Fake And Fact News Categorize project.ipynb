{
 "cells": [
  {
   "cell_type": "code",
   "execution_count": 1,
   "id": "d505b847-9747-4cdc-b0d3-c4140e5ce653",
   "metadata": {},
   "outputs": [],
   "source": [
    "import pandas as pd\n",
    "import numpy as np"
   ]
  },
  {
   "cell_type": "code",
   "execution_count": 2,
   "id": "952847ef-35e7-4a10-940a-3300caf3e75f",
   "metadata": {},
   "outputs": [],
   "source": [
    "data_fake = pd.read_csv('Fake.csv')\n",
    "data_true = pd.read_csv('True.csv')\n"
   ]
  },
  {
   "cell_type": "code",
   "execution_count": 3,
   "id": "15c3a872-1174-4ca6-8812-7c97effcd477",
   "metadata": {},
   "outputs": [],
   "source": [
    "data_fake['Label'] = 'Fake'"
   ]
  },
  {
   "cell_type": "code",
   "execution_count": 4,
   "id": "d3f15bc0-1af4-4f5b-988b-bf02c305a338",
   "metadata": {},
   "outputs": [],
   "source": [
    "data_true['Label'] = 'True'"
   ]
  },
  {
   "cell_type": "code",
   "execution_count": 5,
   "id": "ebdef590-a6df-484c-b318-f7eb0c03f196",
   "metadata": {},
   "outputs": [],
   "source": [
    "data = pd.concat([data_fake, data_true])\n"
   ]
  },
  {
   "cell_type": "code",
   "execution_count": 6,
   "id": "b51645d4-204e-468d-a5e0-c478171b6d6c",
   "metadata": {},
   "outputs": [
    {
     "data": {
      "text/plain": [
       "Label\n",
       "Fake    23481\n",
       "True    21417\n",
       "Name: count, dtype: int64"
      ]
     },
     "execution_count": 6,
     "metadata": {},
     "output_type": "execute_result"
    }
   ],
   "source": [
    "data['Label'].value_counts()"
   ]
  },
  {
   "cell_type": "code",
   "execution_count": 7,
   "id": "c20aa381-4730-4ebf-bf73-f8929c4812d0",
   "metadata": {},
   "outputs": [],
   "source": [
    "data = data.drop(columns=['subject', 'date'])"
   ]
  },
  {
   "cell_type": "code",
   "execution_count": 8,
   "id": "f181dd81-2b4f-488c-80dd-49d55579c8a5",
   "metadata": {},
   "outputs": [
    {
     "data": {
      "text/plain": [
       "title    0\n",
       "text     0\n",
       "Label    0\n",
       "dtype: int64"
      ]
     },
     "execution_count": 8,
     "metadata": {},
     "output_type": "execute_result"
    }
   ],
   "source": [
    "data.isna().sum()"
   ]
  },
  {
   "cell_type": "code",
   "execution_count": 9,
   "id": "ccad2279-d485-4d3a-ab7e-f4adf49e4244",
   "metadata": {},
   "outputs": [],
   "source": [
    "data = data.drop_duplicates()"
   ]
  },
  {
   "cell_type": "code",
   "execution_count": 10,
   "id": "d3eea662-dcde-464f-8f5a-712312708039",
   "metadata": {},
   "outputs": [
    {
     "data": {
      "text/plain": [
       "0"
      ]
     },
     "execution_count": 10,
     "metadata": {},
     "output_type": "execute_result"
    }
   ],
   "source": [
    "data.duplicated().sum()"
   ]
  },
  {
   "cell_type": "code",
   "execution_count": 11,
   "id": "28059b5b-420b-4c8d-a602-86f24f7855f0",
   "metadata": {},
   "outputs": [
    {
     "data": {
      "text/plain": [
       "(39105, 3)"
      ]
     },
     "execution_count": 11,
     "metadata": {},
     "output_type": "execute_result"
    }
   ],
   "source": [
    "data.shape"
   ]
  },
  {
   "cell_type": "markdown",
   "id": "466e0469-b340-425d-81b0-274f29207d3b",
   "metadata": {},
   "source": [
    "## Preprocessing data"
   ]
  },
  {
   "cell_type": "code",
   "execution_count": 12,
   "id": "39b404bd-3b6d-47b4-af2e-6e878fa75bfd",
   "metadata": {},
   "outputs": [],
   "source": [
    "import re\n",
    "import nltk\n",
    "from nltk.tokenize import word_tokenize\n",
    "from nltk.corpus import stopwords\n",
    "from nltk.stem import WordNetLemmatizer\n",
    "import numpy as np"
   ]
  },
  {
   "cell_type": "code",
   "execution_count": 13,
   "id": "dc4faaae-4452-4832-b05b-1e1862140d91",
   "metadata": {},
   "outputs": [
    {
     "data": {
      "text/plain": [
       "Label\n",
       "True    21197\n",
       "Fake    17908\n",
       "Name: count, dtype: int64"
      ]
     },
     "execution_count": 13,
     "metadata": {},
     "output_type": "execute_result"
    }
   ],
   "source": [
    "data['Label'].value_counts()"
   ]
  },
  {
   "cell_type": "code",
   "execution_count": 14,
   "id": "e6db5183-cc7d-4c0b-b73b-35718e0ececc",
   "metadata": {},
   "outputs": [],
   "source": [
    "def process_text(text):\n",
    "    text = re.sub(r'\\s+', ' ', text, flags=re.I) # Remove extra white space from text\n",
    "\n",
    "    text = re.sub(r'\\W', ' ', str(text)) # Remove all the special characters from text\n",
    "\n",
    "    text = re.sub(r'\\s+[a-zA-Z]\\s+', ' ', text) # Remove all single characters from text\n",
    "\n",
    "    text = re.sub(r'[^a-zA-Z\\s]', '', text) # Remove any character that isn't alphabetical\n",
    "\n",
    "    text = text.lower()\n",
    "\n",
    "    words = word_tokenize(text)\n",
    "\n",
    "    lemmatizer = WordNetLemmatizer()\n",
    "    words = [lemmatizer.lemmatize(word) for word in words]\n",
    "\n",
    "    stop_words = set(stopwords.words(\"english\"))\n",
    "    Words = [word for word in words if word not in stop_words]\n",
    "\n",
    "    Words = [word for word in Words if len(word) > 3]\n",
    "\n",
    "    indices = np.unique(Words, return_index=True)[1]\n",
    "    cleaned_text = np.array(Words)[np.sort(indices)].tolist()\n",
    "\n",
    "    return cleaned_text"
   ]
  },
  {
   "cell_type": "code",
   "execution_count": 15,
   "id": "c8d18c3f-4ff6-431f-a41e-0b57848c2394",
   "metadata": {},
   "outputs": [],
   "source": [
    "data.loc[:, 'cleaned'] = data['text'].apply(process_text)"
   ]
  },
  {
   "cell_type": "code",
   "execution_count": 16,
   "id": "824c8b98-09b5-4906-9dc8-1acb9f055654",
   "metadata": {},
   "outputs": [
    {
     "data": {
      "text/html": [
       "<div>\n",
       "<style scoped>\n",
       "    .dataframe tbody tr th:only-of-type {\n",
       "        vertical-align: middle;\n",
       "    }\n",
       "\n",
       "    .dataframe tbody tr th {\n",
       "        vertical-align: top;\n",
       "    }\n",
       "\n",
       "    .dataframe thead th {\n",
       "        text-align: right;\n",
       "    }\n",
       "</style>\n",
       "<table border=\"1\" class=\"dataframe\">\n",
       "  <thead>\n",
       "    <tr style=\"text-align: right;\">\n",
       "      <th></th>\n",
       "      <th>title</th>\n",
       "      <th>text</th>\n",
       "      <th>Label</th>\n",
       "      <th>cleaned</th>\n",
       "    </tr>\n",
       "  </thead>\n",
       "  <tbody>\n",
       "    <tr>\n",
       "      <th>0</th>\n",
       "      <td>Donald Trump Sends Out Embarrassing New Year’...</td>\n",
       "      <td>Donald Trump just couldn t wish all Americans ...</td>\n",
       "      <td>Fake</td>\n",
       "      <td>[donald, trump, wish, american, happy, year, l...</td>\n",
       "    </tr>\n",
       "    <tr>\n",
       "      <th>1</th>\n",
       "      <td>Drunk Bragging Trump Staffer Started Russian ...</td>\n",
       "      <td>House Intelligence Committee Chairman Devin Nu...</td>\n",
       "      <td>Fake</td>\n",
       "      <td>[house, intelligence, committee, chairman, dev...</td>\n",
       "    </tr>\n",
       "    <tr>\n",
       "      <th>2</th>\n",
       "      <td>Sheriff David Clarke Becomes An Internet Joke...</td>\n",
       "      <td>On Friday, it was revealed that former Milwauk...</td>\n",
       "      <td>Fake</td>\n",
       "      <td>[friday, revealed, former, milwaukee, sheriff,...</td>\n",
       "    </tr>\n",
       "    <tr>\n",
       "      <th>3</th>\n",
       "      <td>Trump Is So Obsessed He Even Has Obama’s Name...</td>\n",
       "      <td>On Christmas day, Donald Trump announced that ...</td>\n",
       "      <td>Fake</td>\n",
       "      <td>[christmas, donald, trump, announced, would, b...</td>\n",
       "    </tr>\n",
       "    <tr>\n",
       "      <th>4</th>\n",
       "      <td>Pope Francis Just Called Out Donald Trump Dur...</td>\n",
       "      <td>Pope Francis used his annual Christmas Day mes...</td>\n",
       "      <td>Fake</td>\n",
       "      <td>[pope, francis, used, annual, christmas, messa...</td>\n",
       "    </tr>\n",
       "    <tr>\n",
       "      <th>...</th>\n",
       "      <td>...</td>\n",
       "      <td>...</td>\n",
       "      <td>...</td>\n",
       "      <td>...</td>\n",
       "    </tr>\n",
       "    <tr>\n",
       "      <th>21412</th>\n",
       "      <td>'Fully committed' NATO backs new U.S. approach...</td>\n",
       "      <td>BRUSSELS (Reuters) - NATO allies on Tuesday we...</td>\n",
       "      <td>True</td>\n",
       "      <td>[brussels, reuters, nato, ally, tuesday, welco...</td>\n",
       "    </tr>\n",
       "    <tr>\n",
       "      <th>21413</th>\n",
       "      <td>LexisNexis withdrew two products from Chinese ...</td>\n",
       "      <td>LONDON (Reuters) - LexisNexis, a provider of l...</td>\n",
       "      <td>True</td>\n",
       "      <td>[london, reuters, lexisnexis, provider, legal,...</td>\n",
       "    </tr>\n",
       "    <tr>\n",
       "      <th>21414</th>\n",
       "      <td>Minsk cultural hub becomes haven from authorities</td>\n",
       "      <td>MINSK (Reuters) - In the shadow of disused Sov...</td>\n",
       "      <td>True</td>\n",
       "      <td>[minsk, reuters, shadow, disused, soviet, fact...</td>\n",
       "    </tr>\n",
       "    <tr>\n",
       "      <th>21415</th>\n",
       "      <td>Vatican upbeat on possibility of Pope Francis ...</td>\n",
       "      <td>MOSCOW (Reuters) - Vatican Secretary of State ...</td>\n",
       "      <td>True</td>\n",
       "      <td>[moscow, reuters, vatican, secretary, state, c...</td>\n",
       "    </tr>\n",
       "    <tr>\n",
       "      <th>21416</th>\n",
       "      <td>Indonesia to buy $1.14 billion worth of Russia...</td>\n",
       "      <td>JAKARTA (Reuters) - Indonesia will buy 11 Sukh...</td>\n",
       "      <td>True</td>\n",
       "      <td>[jakarta, reuters, indonesia, sukhoi, fighter,...</td>\n",
       "    </tr>\n",
       "  </tbody>\n",
       "</table>\n",
       "<p>39105 rows × 4 columns</p>\n",
       "</div>"
      ],
      "text/plain": [
       "                                                   title  \\\n",
       "0       Donald Trump Sends Out Embarrassing New Year’...   \n",
       "1       Drunk Bragging Trump Staffer Started Russian ...   \n",
       "2       Sheriff David Clarke Becomes An Internet Joke...   \n",
       "3       Trump Is So Obsessed He Even Has Obama’s Name...   \n",
       "4       Pope Francis Just Called Out Donald Trump Dur...   \n",
       "...                                                  ...   \n",
       "21412  'Fully committed' NATO backs new U.S. approach...   \n",
       "21413  LexisNexis withdrew two products from Chinese ...   \n",
       "21414  Minsk cultural hub becomes haven from authorities   \n",
       "21415  Vatican upbeat on possibility of Pope Francis ...   \n",
       "21416  Indonesia to buy $1.14 billion worth of Russia...   \n",
       "\n",
       "                                                    text Label  \\\n",
       "0      Donald Trump just couldn t wish all Americans ...  Fake   \n",
       "1      House Intelligence Committee Chairman Devin Nu...  Fake   \n",
       "2      On Friday, it was revealed that former Milwauk...  Fake   \n",
       "3      On Christmas day, Donald Trump announced that ...  Fake   \n",
       "4      Pope Francis used his annual Christmas Day mes...  Fake   \n",
       "...                                                  ...   ...   \n",
       "21412  BRUSSELS (Reuters) - NATO allies on Tuesday we...  True   \n",
       "21413  LONDON (Reuters) - LexisNexis, a provider of l...  True   \n",
       "21414  MINSK (Reuters) - In the shadow of disused Sov...  True   \n",
       "21415  MOSCOW (Reuters) - Vatican Secretary of State ...  True   \n",
       "21416  JAKARTA (Reuters) - Indonesia will buy 11 Sukh...  True   \n",
       "\n",
       "                                                 cleaned  \n",
       "0      [donald, trump, wish, american, happy, year, l...  \n",
       "1      [house, intelligence, committee, chairman, dev...  \n",
       "2      [friday, revealed, former, milwaukee, sheriff,...  \n",
       "3      [christmas, donald, trump, announced, would, b...  \n",
       "4      [pope, francis, used, annual, christmas, messa...  \n",
       "...                                                  ...  \n",
       "21412  [brussels, reuters, nato, ally, tuesday, welco...  \n",
       "21413  [london, reuters, lexisnexis, provider, legal,...  \n",
       "21414  [minsk, reuters, shadow, disused, soviet, fact...  \n",
       "21415  [moscow, reuters, vatican, secretary, state, c...  \n",
       "21416  [jakarta, reuters, indonesia, sukhoi, fighter,...  \n",
       "\n",
       "[39105 rows x 4 columns]"
      ]
     },
     "execution_count": 16,
     "metadata": {},
     "output_type": "execute_result"
    }
   ],
   "source": [
    "data"
   ]
  },
  {
   "cell_type": "code",
   "execution_count": 17,
   "id": "f1bc57ca-bedd-409c-af06-4251e95af226",
   "metadata": {},
   "outputs": [],
   "source": [
    "data = data.drop(columns = ['text'])"
   ]
  },
  {
   "cell_type": "code",
   "execution_count": 18,
   "id": "f947dc62-5d22-4c38-beb7-1fe21ee8dea2",
   "metadata": {},
   "outputs": [],
   "source": [
    "data['text_cleaned'] = data['cleaned']"
   ]
  },
  {
   "cell_type": "code",
   "execution_count": 19,
   "id": "32e5c227-5243-43b1-bcc5-8c85dd6dbb03",
   "metadata": {},
   "outputs": [],
   "source": [
    "data = data.drop(columns = ['cleaned'])"
   ]
  },
  {
   "cell_type": "markdown",
   "id": "ea2de876-9ac2-4db9-ac8f-62eabd2b2903",
   "metadata": {},
   "source": [
    "#### Checkpoint"
   ]
  },
  {
   "cell_type": "code",
   "execution_count": 20,
   "id": "6c130cb9-5fbd-43e7-ab1d-27ff2c4fd602",
   "metadata": {},
   "outputs": [],
   "source": [
    "data_clean = data.copy()"
   ]
  },
  {
   "cell_type": "code",
   "execution_count": 21,
   "id": "450bcc58-a715-4981-bc76-df5f6bc6ade9",
   "metadata": {},
   "outputs": [
    {
     "data": {
      "text/html": [
       "<div>\n",
       "<style scoped>\n",
       "    .dataframe tbody tr th:only-of-type {\n",
       "        vertical-align: middle;\n",
       "    }\n",
       "\n",
       "    .dataframe tbody tr th {\n",
       "        vertical-align: top;\n",
       "    }\n",
       "\n",
       "    .dataframe thead th {\n",
       "        text-align: right;\n",
       "    }\n",
       "</style>\n",
       "<table border=\"1\" class=\"dataframe\">\n",
       "  <thead>\n",
       "    <tr style=\"text-align: right;\">\n",
       "      <th></th>\n",
       "      <th>title</th>\n",
       "      <th>Label</th>\n",
       "      <th>text_cleaned</th>\n",
       "    </tr>\n",
       "  </thead>\n",
       "  <tbody>\n",
       "    <tr>\n",
       "      <th>0</th>\n",
       "      <td>Donald Trump Sends Out Embarrassing New Year’...</td>\n",
       "      <td>Fake</td>\n",
       "      <td>[donald, trump, wish, american, happy, year, l...</td>\n",
       "    </tr>\n",
       "    <tr>\n",
       "      <th>1</th>\n",
       "      <td>Drunk Bragging Trump Staffer Started Russian ...</td>\n",
       "      <td>Fake</td>\n",
       "      <td>[house, intelligence, committee, chairman, dev...</td>\n",
       "    </tr>\n",
       "    <tr>\n",
       "      <th>2</th>\n",
       "      <td>Sheriff David Clarke Becomes An Internet Joke...</td>\n",
       "      <td>Fake</td>\n",
       "      <td>[friday, revealed, former, milwaukee, sheriff,...</td>\n",
       "    </tr>\n",
       "    <tr>\n",
       "      <th>3</th>\n",
       "      <td>Trump Is So Obsessed He Even Has Obama’s Name...</td>\n",
       "      <td>Fake</td>\n",
       "      <td>[christmas, donald, trump, announced, would, b...</td>\n",
       "    </tr>\n",
       "    <tr>\n",
       "      <th>4</th>\n",
       "      <td>Pope Francis Just Called Out Donald Trump Dur...</td>\n",
       "      <td>Fake</td>\n",
       "      <td>[pope, francis, used, annual, christmas, messa...</td>\n",
       "    </tr>\n",
       "    <tr>\n",
       "      <th>...</th>\n",
       "      <td>...</td>\n",
       "      <td>...</td>\n",
       "      <td>...</td>\n",
       "    </tr>\n",
       "    <tr>\n",
       "      <th>21412</th>\n",
       "      <td>'Fully committed' NATO backs new U.S. approach...</td>\n",
       "      <td>True</td>\n",
       "      <td>[brussels, reuters, nato, ally, tuesday, welco...</td>\n",
       "    </tr>\n",
       "    <tr>\n",
       "      <th>21413</th>\n",
       "      <td>LexisNexis withdrew two products from Chinese ...</td>\n",
       "      <td>True</td>\n",
       "      <td>[london, reuters, lexisnexis, provider, legal,...</td>\n",
       "    </tr>\n",
       "    <tr>\n",
       "      <th>21414</th>\n",
       "      <td>Minsk cultural hub becomes haven from authorities</td>\n",
       "      <td>True</td>\n",
       "      <td>[minsk, reuters, shadow, disused, soviet, fact...</td>\n",
       "    </tr>\n",
       "    <tr>\n",
       "      <th>21415</th>\n",
       "      <td>Vatican upbeat on possibility of Pope Francis ...</td>\n",
       "      <td>True</td>\n",
       "      <td>[moscow, reuters, vatican, secretary, state, c...</td>\n",
       "    </tr>\n",
       "    <tr>\n",
       "      <th>21416</th>\n",
       "      <td>Indonesia to buy $1.14 billion worth of Russia...</td>\n",
       "      <td>True</td>\n",
       "      <td>[jakarta, reuters, indonesia, sukhoi, fighter,...</td>\n",
       "    </tr>\n",
       "  </tbody>\n",
       "</table>\n",
       "<p>39105 rows × 3 columns</p>\n",
       "</div>"
      ],
      "text/plain": [
       "                                                   title Label  \\\n",
       "0       Donald Trump Sends Out Embarrassing New Year’...  Fake   \n",
       "1       Drunk Bragging Trump Staffer Started Russian ...  Fake   \n",
       "2       Sheriff David Clarke Becomes An Internet Joke...  Fake   \n",
       "3       Trump Is So Obsessed He Even Has Obama’s Name...  Fake   \n",
       "4       Pope Francis Just Called Out Donald Trump Dur...  Fake   \n",
       "...                                                  ...   ...   \n",
       "21412  'Fully committed' NATO backs new U.S. approach...  True   \n",
       "21413  LexisNexis withdrew two products from Chinese ...  True   \n",
       "21414  Minsk cultural hub becomes haven from authorities  True   \n",
       "21415  Vatican upbeat on possibility of Pope Francis ...  True   \n",
       "21416  Indonesia to buy $1.14 billion worth of Russia...  True   \n",
       "\n",
       "                                            text_cleaned  \n",
       "0      [donald, trump, wish, american, happy, year, l...  \n",
       "1      [house, intelligence, committee, chairman, dev...  \n",
       "2      [friday, revealed, former, milwaukee, sheriff,...  \n",
       "3      [christmas, donald, trump, announced, would, b...  \n",
       "4      [pope, francis, used, annual, christmas, messa...  \n",
       "...                                                  ...  \n",
       "21412  [brussels, reuters, nato, ally, tuesday, welco...  \n",
       "21413  [london, reuters, lexisnexis, provider, legal,...  \n",
       "21414  [minsk, reuters, shadow, disused, soviet, fact...  \n",
       "21415  [moscow, reuters, vatican, secretary, state, c...  \n",
       "21416  [jakarta, reuters, indonesia, sukhoi, fighter,...  \n",
       "\n",
       "[39105 rows x 3 columns]"
      ]
     },
     "execution_count": 21,
     "metadata": {},
     "output_type": "execute_result"
    }
   ],
   "source": [
    "data"
   ]
  },
  {
   "cell_type": "code",
   "execution_count": 22,
   "id": "54885879-c90b-4637-89de-56a50bc8d539",
   "metadata": {},
   "outputs": [],
   "source": [
    "from sklearn.model_selection import train_test_split"
   ]
  },
  {
   "cell_type": "code",
   "execution_count": 23,
   "id": "06353759-66cb-4c04-9bb2-9e0040a861c6",
   "metadata": {},
   "outputs": [],
   "source": [
    "X = [','.join(map(str, l)) for l in data['text_cleaned']]\n",
    "y = data['Label']"
   ]
  },
  {
   "cell_type": "code",
   "execution_count": 24,
   "id": "223543ba-d6ca-4717-86eb-f48db89fe019",
   "metadata": {},
   "outputs": [],
   "source": [
    "X_train, X_test, y_train, y_test = train_test_split(X, y, test_size=0.2, random_state=42)"
   ]
  },
  {
   "cell_type": "code",
   "execution_count": 25,
   "id": "f900508d-2bb9-4566-98e4-4014b5c43898",
   "metadata": {},
   "outputs": [
    {
     "name": "stdout",
     "output_type": "stream",
     "text": [
      "the size of vocab = 91457\n"
     ]
    }
   ],
   "source": [
    "from tensorflow.keras.preprocessing.text import Tokenizer\n",
    "from tensorflow.keras.preprocessing.sequence import pad_sequences\n",
    "\n",
    "\n",
    "tokenizer = Tokenizer()\n",
    "tokenizer.fit_on_texts(X_train)\n",
    "word_idx = tokenizer.word_index  # Corrected syntax for accessing word index\n",
    "v = len(word_idx)\n",
    "print(\"the size of vocab =\", v)  # Corrected spacing\n",
    "X_train = tokenizer.texts_to_sequences(X_train)\n",
    "X_test = tokenizer.texts_to_sequences(X_test)"
   ]
  },
  {
   "cell_type": "code",
   "execution_count": 26,
   "id": "9df275ae-92fd-4b7b-a45c-ccaeaa7d1877",
   "metadata": {},
   "outputs": [
    {
     "data": {
      "text/plain": [
       "206"
      ]
     },
     "execution_count": 26,
     "metadata": {},
     "output_type": "execute_result"
    }
   ],
   "source": [
    "len(X_train[0])"
   ]
  },
  {
   "cell_type": "code",
   "execution_count": 27,
   "id": "d5f4e8e9-e369-4a34-bf16-9e2e3782541c",
   "metadata": {},
   "outputs": [],
   "source": [
    "from tensorflow.keras.preprocessing.sequence import pad_sequences\n",
    "\n",
    "maxlen = 150\n",
    "X_train = pad_sequences(X_train,maxlen=maxlen)\n",
    "X_test = pad_sequences(X_test,maxlen=maxlen)"
   ]
  },
  {
   "cell_type": "code",
   "execution_count": 28,
   "id": "59b3115c-7b7d-40ea-86c9-304fc5a6082d",
   "metadata": {},
   "outputs": [
    {
     "data": {
      "text/plain": [
       "Label\n",
       "True    21197\n",
       "Fake    17908\n",
       "Name: count, dtype: int64"
      ]
     },
     "execution_count": 28,
     "metadata": {},
     "output_type": "execute_result"
    }
   ],
   "source": [
    "y.value_counts()"
   ]
  },
  {
   "cell_type": "markdown",
   "id": "0ccd7e7e-7430-4e4d-88b6-b4cf5cc286e0",
   "metadata": {},
   "source": [
    "## Modeling"
   ]
  },
  {
   "cell_type": "code",
   "execution_count": 29,
   "id": "35f8ef03-c9cf-4e79-b64b-d8e93b0a5d17",
   "metadata": {},
   "outputs": [],
   "source": [
    "from keras.models import Sequential\n",
    "from keras.layers import Embedding, LSTM, Dense,Input,GlobalMaxPooling1D,Dropout\n",
    "from tensorflow.keras.models import Model\n",
    "from keras import optimizers\n",
    "import numpy as np\n",
    "from tensorflow.keras.optimizers import Adam"
   ]
  },
  {
   "cell_type": "code",
   "execution_count": 30,
   "id": "386098ce-6461-4d6f-a516-c031261c3595",
   "metadata": {},
   "outputs": [],
   "source": [
    "inputt=Input(shape=(maxlen,))\n",
    "learning_rate = 0.0001\n",
    "x=Embedding(v+1,100)(inputt)\n",
    "x = Dropout(0.5)(x)\n",
    "x = LSTM(150,return_sequences=True)(x)\n",
    "x = Dropout(0.5)(x)\n",
    "x = GlobalMaxPooling1D()(x)\n",
    "x = Dense(64, activation='relu')(x)\n",
    "x = Dropout(0.5)(x)\n",
    "x = Dense(2, activation='softmax')(x)\n",
    "\n",
    "model = Model(inputt, x)\n",
    "\n",
    "# Define optimizer with specified learning rate\n",
    "optimizer = Adam(learning_rate=learning_rate)\n",
    "\n",
    "model.compile(optimizer=optimizer, loss='categorical_crossentropy', metrics=['accuracy'])"
   ]
  },
  {
   "cell_type": "code",
   "execution_count": 31,
   "id": "f2cdf5b6-411a-4bab-ab86-6d479eb8e999",
   "metadata": {},
   "outputs": [],
   "source": [
    "from sklearn.preprocessing import LabelEncoder\n",
    "\n",
    "label_encoder = LabelEncoder()\n",
    "y_train_encoded = label_encoder.fit_transform(y_train)\n",
    "y_test_encoded = label_encoder.transform(y_test)"
   ]
  },
  {
   "cell_type": "code",
   "execution_count": 32,
   "id": "ba2eb29a-51d5-489b-9d7a-60f9bfddf791",
   "metadata": {},
   "outputs": [
    {
     "data": {
      "text/plain": [
       "array([0, 1, 1, ..., 1, 0, 0])"
      ]
     },
     "execution_count": 32,
     "metadata": {},
     "output_type": "execute_result"
    }
   ],
   "source": [
    "y_train_encoded "
   ]
  },
  {
   "cell_type": "code",
   "execution_count": 33,
   "id": "a04ae8ad-50d0-4335-a0c7-cfa54e184761",
   "metadata": {},
   "outputs": [],
   "source": [
    "import tensorflow as tf\n",
    "\n",
    "y_train_one_hot = tf.keras.utils.to_categorical(y_train_encoded)\n",
    "y_test_one_hot = tf.keras.utils.to_categorical(y_test_encoded)"
   ]
  },
  {
   "cell_type": "code",
   "execution_count": 34,
   "id": "7f98f009-4153-49df-a010-c6ce26043cd8",
   "metadata": {},
   "outputs": [
    {
     "name": "stdout",
     "output_type": "stream",
     "text": [
      "Epoch 1/15\n",
      "\u001b[1m978/978\u001b[0m \u001b[32m━━━━━━━━━━━━━━━━━━━━\u001b[0m\u001b[37m\u001b[0m \u001b[1m166s\u001b[0m 167ms/step - accuracy: 0.6537 - loss: 0.5593 - val_accuracy: 0.9687 - val_loss: 0.1916\n",
      "Epoch 2/15\n",
      "\u001b[1m978/978\u001b[0m \u001b[32m━━━━━━━━━━━━━━━━━━━━\u001b[0m\u001b[37m\u001b[0m \u001b[1m164s\u001b[0m 168ms/step - accuracy: 0.9717 - loss: 0.0897 - val_accuracy: 0.9743 - val_loss: 0.0870\n",
      "Epoch 3/15\n",
      "\u001b[1m978/978\u001b[0m \u001b[32m━━━━━━━━━━━━━━━━━━━━\u001b[0m\u001b[37m\u001b[0m \u001b[1m212s\u001b[0m 178ms/step - accuracy: 0.9891 - loss: 0.0382 - val_accuracy: 0.9793 - val_loss: 0.0632\n",
      "Epoch 4/15\n",
      "\u001b[1m978/978\u001b[0m \u001b[32m━━━━━━━━━━━━━━━━━━━━\u001b[0m\u001b[37m\u001b[0m \u001b[1m173s\u001b[0m 177ms/step - accuracy: 0.9943 - loss: 0.0221 - val_accuracy: 0.9779 - val_loss: 0.0661\n",
      "Epoch 5/15\n",
      "\u001b[1m978/978\u001b[0m \u001b[32m━━━━━━━━━━━━━━━━━━━━\u001b[0m\u001b[37m\u001b[0m \u001b[1m166s\u001b[0m 170ms/step - accuracy: 0.9959 - loss: 0.0171 - val_accuracy: 0.9802 - val_loss: 0.0669\n",
      "Epoch 6/15\n",
      "\u001b[1m978/978\u001b[0m \u001b[32m━━━━━━━━━━━━━━━━━━━━\u001b[0m\u001b[37m\u001b[0m \u001b[1m210s\u001b[0m 178ms/step - accuracy: 0.9978 - loss: 0.0088 - val_accuracy: 0.9780 - val_loss: 0.0618\n",
      "Epoch 7/15\n",
      "\u001b[1m978/978\u001b[0m \u001b[32m━━━━━━━━━━━━━━━━━━━━\u001b[0m\u001b[37m\u001b[0m \u001b[1m177s\u001b[0m 180ms/step - accuracy: 0.9984 - loss: 0.0070 - val_accuracy: 0.9803 - val_loss: 0.0570\n",
      "Epoch 8/15\n",
      "\u001b[1m978/978\u001b[0m \u001b[32m━━━━━━━━━━━━━━━━━━━━\u001b[0m\u001b[37m\u001b[0m \u001b[1m176s\u001b[0m 180ms/step - accuracy: 0.9990 - loss: 0.0044 - val_accuracy: 0.9790 - val_loss: 0.0597\n",
      "Epoch 9/15\n",
      "\u001b[1m978/978\u001b[0m \u001b[32m━━━━━━━━━━━━━━━━━━━━\u001b[0m\u001b[37m\u001b[0m \u001b[1m202s\u001b[0m 179ms/step - accuracy: 0.9994 - loss: 0.0025 - val_accuracy: 0.9781 - val_loss: 0.0631\n",
      "Epoch 10/15\n",
      "\u001b[1m978/978\u001b[0m \u001b[32m━━━━━━━━━━━━━━━━━━━━\u001b[0m\u001b[37m\u001b[0m \u001b[1m203s\u001b[0m 180ms/step - accuracy: 0.9991 - loss: 0.0029 - val_accuracy: 0.9786 - val_loss: 0.0614\n",
      "Epoch 11/15\n",
      "\u001b[1m978/978\u001b[0m \u001b[32m━━━━━━━━━━━━━━━━━━━━\u001b[0m\u001b[37m\u001b[0m \u001b[1m201s\u001b[0m 179ms/step - accuracy: 0.9995 - loss: 0.0022 - val_accuracy: 0.9784 - val_loss: 0.0660\n",
      "Epoch 12/15\n",
      "\u001b[1m978/978\u001b[0m \u001b[32m━━━━━━━━━━━━━━━━━━━━\u001b[0m\u001b[37m\u001b[0m \u001b[1m174s\u001b[0m 178ms/step - accuracy: 0.9995 - loss: 0.0016 - val_accuracy: 0.9778 - val_loss: 0.0620\n",
      "Epoch 13/15\n",
      "\u001b[1m978/978\u001b[0m \u001b[32m━━━━━━━━━━━━━━━━━━━━\u001b[0m\u001b[37m\u001b[0m \u001b[1m205s\u001b[0m 180ms/step - accuracy: 0.9997 - loss: 0.0013 - val_accuracy: 0.9793 - val_loss: 0.0717\n",
      "Epoch 14/15\n",
      "\u001b[1m978/978\u001b[0m \u001b[32m━━━━━━━━━━━━━━━━━━━━\u001b[0m\u001b[37m\u001b[0m \u001b[1m193s\u001b[0m 172ms/step - accuracy: 0.9998 - loss: 6.9354e-04 - val_accuracy: 0.9793 - val_loss: 0.0664\n",
      "Epoch 15/15\n",
      "\u001b[1m978/978\u001b[0m \u001b[32m━━━━━━━━━━━━━━━━━━━━\u001b[0m\u001b[37m\u001b[0m \u001b[1m210s\u001b[0m 180ms/step - accuracy: 0.9995 - loss: 0.0021 - val_accuracy: 0.9785 - val_loss: 0.0672\n"
     ]
    }
   ],
   "source": [
    "history = model.fit(X_train, y_train_one_hot, epochs=15, validation_data=(X_test, y_test_one_hot))"
   ]
  },
  {
   "cell_type": "code",
   "execution_count": 35,
   "id": "ef2c00be-c6e9-4be4-9be6-cae8cebb189c",
   "metadata": {},
   "outputs": [
    {
     "data": {
      "image/png": "[encoded data removed]",
      "text/plain": [
       "<Figure size 640x480 with 1 Axes>"
      ]
     },
     "metadata": {},
     "output_type": "display_data"
    },
    {
     "data": {
      "image/png": "[encoded data removed]",
      "text/plain": [
       "<Figure size 640x480 with 1 Axes>"
      ]
     },
     "metadata": {},
     "output_type": "display_data"
    }
   ],
   "source": [
    "import matplotlib.pyplot as plt\n",
    "\n",
    "# Plot training & validation accuracy values\n",
    "plt.plot(history.history['accuracy'])\n",
    "plt.plot(history.history['val_accuracy'])\n",
    "plt.title('Model accuracy')\n",
    "plt.xlabel('Epoch')\n",
    "plt.ylabel('Accuracy')\n",
    "plt.legend(['Train', 'Test'], loc='upper left')\n",
    "plt.show()\n",
    "\n",
    "# Plot training & validation loss values\n",
    "plt.plot(history.history['loss'])\n",
    "plt.plot(history.history['val_loss'])\n",
    "plt.title('Model loss')\n",
    "plt.xlabel('Epoch')\n",
    "plt.ylabel('Loss')\n",
    "plt.legend(['Train', 'Test'], loc='upper left')\n",
    "plt.show()"
   ]
  },
  {
   "cell_type": "code",
   "execution_count": 36,
   "id": "7ae18fe4-c935-4ad9-9b82-fe29ffcf4f4a",
   "metadata": {},
   "outputs": [
    {
     "name": "stdout",
     "output_type": "stream",
     "text": [
      "\u001b[1m245/245\u001b[0m \u001b[32m━━━━━━━━━━━━━━━━━━━━\u001b[0m\u001b[37m\u001b[0m \u001b[1m12s\u001b[0m 48ms/step - accuracy: 0.9775 - loss: 0.0695\n",
      "Test Loss: 0.06720496714115143\n",
      "Test Accuracy: 0.9785193800926208\n"
     ]
    }
   ],
   "source": [
    "# Evaluate the model on the test data\n",
    "loss, accuracy = model.evaluate(X_test, y_test_one_hot)\n",
    "\n",
    "print(\"Test Loss:\", loss)\n",
    "print(\"Test Accuracy:\", accuracy)"
   ]
  },
  {
   "cell_type": "code",
   "execution_count": 37,
   "id": "a18d56c2-a62d-4e1d-bfda-f6c63e59ae9a",
   "metadata": {},
   "outputs": [],
   "source": [
    "import matplotlib.pyplot as plt\n",
    "import seaborn as sns\n",
    "from sklearn.metrics import confusion_matrix\n",
    "import numpy as np\n"
   ]
  },
  {
   "cell_type": "code",
   "execution_count": 38,
   "id": "fba7ae5a-b6cc-4499-9438-43e8e809fdda",
   "metadata": {},
   "outputs": [
    {
     "name": "stdout",
     "output_type": "stream",
     "text": [
      "\u001b[1m245/245\u001b[0m \u001b[32m━━━━━━━━━━━━━━━━━━━━\u001b[0m\u001b[37m\u001b[0m \u001b[1m11s\u001b[0m 46ms/step\n"
     ]
    },
    {
     "data": {
      "image/png": "[encoded data removed]",
      "text/plain": [
       "<Figure size 800x600 with 2 Axes>"
      ]
     },
     "metadata": {},
     "output_type": "display_data"
    }
   ],
   "source": [
    "y_pred_probs = model.predict(X_test)\n",
    "y_pred_labels = np.argmax(y_pred_probs, axis=1)\n",
    "y_true_labels = np.argmax(y_test_one_hot, axis=1)\n",
    "conf_matrix = confusion_matrix(y_true_labels, y_pred_labels)\n",
    "plt.figure(figsize=(8, 6))\n",
    "sns.heatmap(conf_matrix, annot=True, fmt='d', cmap='Blues', \n",
    "            xticklabels=['Fake', 'Real'], \n",
    "            yticklabels=['Fake', 'Real'])\n",
    "plt.xlabel('Predicted')\n",
    "plt.ylabel('True')\n",
    "plt.title('Confusion Matrix')\n",
    "plt.show()"
   ]
  },
  {
   "cell_type": "code",
   "execution_count": null,
   "id": "ab09c241-1130-4adc-951d-9b6e4eacdd2a",
   "metadata": {},
   "outputs": [],
   "source": []
  }
 ],
 "metadata": {
  "kernelspec": {
   "display_name": "Python 3 (ipykernel)",
   "language": "python",
   "name": "python3"
  },
  "language_info": {
   "codemirror_mode": {
    "name": "ipython",
    "version": 3
   },
   "file_extension": ".py",
   "mimetype": "text/x-python",
   "name": "python",
   "nbconvert_exporter": "python",
   "pygments_lexer": "ipython3",
   "version": "3.12.7"
  }
 },
 "nbformat": 4,
 "nbformat_minor": 5
}
